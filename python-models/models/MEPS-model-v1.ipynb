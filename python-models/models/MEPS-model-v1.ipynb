{
 "cells": [
  {
   "cell_type": "markdown",
   "id": "0b713b68",
   "metadata": {},
   "source": [
    "# What does this model do?"
   ]
  },
  {
   "cell_type": "markdown",
   "id": "5fc33919",
   "metadata": {},
   "source": [
    "1. Predict utilization counts for each category (e.g., PCP visits, Rx fills, inpatient stays).\n",
    "\n",
    "2. Multiply predicted counts by unit costs from insurance data to estimate total allowed cost.\n",
    "This is then run through a benefit calculator to estimate patient out-of-pocket (OOP) costs.\n",
    "\n",
    "Model is trained on MEPS data: https://meps.ahrq.gov/mepsweb/data_stats/download_data_files.jsp"
   ]
  },
  {
   "cell_type": "markdown",
   "id": "78df62de",
   "metadata": {},
   "source": [
    "# Imports"
   ]
  },
  {
   "cell_type": "code",
   "execution_count": 34,
   "id": "163eb349",
   "metadata": {},
   "outputs": [],
   "source": [
    "import pandas as pd\n",
    "import polars as pl # using polars library for large .xlsx files\n",
    "from sklearn.model_selection import train_test_split\n",
    "from sklearn.pipeline import Pipeline\n",
    "from sklearn.compose import ColumnTransformer\n",
    "from sklearn.preprocessing import OneHotEncoder\n",
    "from sklearn.experimental import enable_hist_gradient_boosting  # noqa\n",
    "from sklearn.ensemble import HistGradientBoostingRegressor\n",
    "from sklearn.metrics import mean_absolute_error, root_mean_squared_error"
   ]
  },
  {
   "cell_type": "markdown",
   "id": "d0e06113",
   "metadata": {},
   "source": [
    "Skip to \"Load MEPS Data\" if h243.xlsx has already been converted to .csv and .parquet."
   ]
  },
  {
   "cell_type": "code",
   "execution_count": null,
   "id": "e58ed7fd",
   "metadata": {},
   "outputs": [],
   "source": [
    "# Define schema for problematic columns\n",
    "schema_overrides = {\n",
    "    'HRWG53X': pl.Float64,  # Use float instead of int for decimal values\n",
    "    # Add other problematic columns as needed\n",
    "}\n",
    "\n",
    "df = pl.read_excel(\n",
    "    \"/Users/orenj/Desktop/Projects/open-coverage/python-models/data/h243.xlsx\",\n",
    "    schema_overrides=schema_overrides\n",
    ")\n",
    "\n",
    "df.head()"
   ]
  },
  {
   "cell_type": "markdown",
   "id": "2a70bd9e",
   "metadata": {},
   "source": [
    "Convert to faster formats for later use"
   ]
  },
  {
   "cell_type": "code",
   "execution_count": 10,
   "id": "1e7b4892",
   "metadata": {},
   "outputs": [],
   "source": [
    "df.write_csv(\"/Users/orenj/Desktop/Projects/open-coverage/python-models/data/h243.csv\")  # Much faster for future loads\n",
    "df.write_parquet(\"/Users/orenj/Desktop/Projects/open-coverage/python-models/data/h243.parquet\")  # Even faster, compressed"
   ]
  },
  {
   "cell_type": "markdown",
   "id": "9163c6d0",
   "metadata": {},
   "source": [
    "# Load MEPS Data"
   ]
  },
  {
   "cell_type": "markdown",
   "id": "8cd4ee6c",
   "metadata": {},
   "source": [
    "ChatGPT: Use consolidated from year t and counts from year t+1 if you're predicting future utilization (prospective), which is better for real-world use.\n",
    "\n",
    "We are using consolidated from 2022 and counts from 2023."
   ]
  },
  {
   "cell_type": "markdown",
   "id": "39e48c6f",
   "metadata": {},
   "source": [
    "## Consolidated Data"
   ]
  },
  {
   "cell_type": "markdown",
   "id": "71873eac",
   "metadata": {},
   "source": [
    "Load MEPS Consolidated File (person-level features + target)"
   ]
  },
  {
   "cell_type": "code",
   "execution_count": 3,
   "id": "8325ffa9",
   "metadata": {},
   "outputs": [
    {
     "data": {
      "text/html": [
       "<div>\n",
       "<style scoped>\n",
       "    .dataframe tbody tr th:only-of-type {\n",
       "        vertical-align: middle;\n",
       "    }\n",
       "\n",
       "    .dataframe tbody tr th {\n",
       "        vertical-align: top;\n",
       "    }\n",
       "\n",
       "    .dataframe thead th {\n",
       "        text-align: right;\n",
       "    }\n",
       "</style>\n",
       "<table border=\"1\" class=\"dataframe\">\n",
       "  <thead>\n",
       "    <tr style=\"text-align: right;\">\n",
       "      <th></th>\n",
       "      <th>DUID</th>\n",
       "      <th>PID</th>\n",
       "      <th>DUPERSID</th>\n",
       "      <th>PANEL</th>\n",
       "      <th>DATAYEAR</th>\n",
       "      <th>FAMID31</th>\n",
       "      <th>FAMID42</th>\n",
       "      <th>FAMID53</th>\n",
       "      <th>FAMID22</th>\n",
       "      <th>FAMIDYR</th>\n",
       "      <th>...</th>\n",
       "      <th>RXOSR22</th>\n",
       "      <th>RXPTR22</th>\n",
       "      <th>RXOTH22</th>\n",
       "      <th>PERWT22F</th>\n",
       "      <th>FAMWT22F</th>\n",
       "      <th>FAMWT22C</th>\n",
       "      <th>SAQWT22F</th>\n",
       "      <th>DIABW22F</th>\n",
       "      <th>VARSTR</th>\n",
       "      <th>VARPSU</th>\n",
       "    </tr>\n",
       "  </thead>\n",
       "  <tbody>\n",
       "    <tr>\n",
       "      <th>0</th>\n",
       "      <td>2460002</td>\n",
       "      <td>101</td>\n",
       "      <td>2460002101</td>\n",
       "      <td>24</td>\n",
       "      <td>2022</td>\n",
       "      <td>A</td>\n",
       "      <td>A</td>\n",
       "      <td>A</td>\n",
       "      <td>A</td>\n",
       "      <td>A</td>\n",
       "      <td>...</td>\n",
       "      <td>0</td>\n",
       "      <td>0</td>\n",
       "      <td>0</td>\n",
       "      <td>5728.309495</td>\n",
       "      <td>5232.211986</td>\n",
       "      <td>5232.211986</td>\n",
       "      <td>3994.687140</td>\n",
       "      <td>6034.636755</td>\n",
       "      <td>2082</td>\n",
       "      <td>1</td>\n",
       "    </tr>\n",
       "    <tr>\n",
       "      <th>1</th>\n",
       "      <td>2460006</td>\n",
       "      <td>101</td>\n",
       "      <td>2460006101</td>\n",
       "      <td>24</td>\n",
       "      <td>2022</td>\n",
       "      <td>A</td>\n",
       "      <td>A</td>\n",
       "      <td>A</td>\n",
       "      <td>A</td>\n",
       "      <td>A</td>\n",
       "      <td>...</td>\n",
       "      <td>0</td>\n",
       "      <td>0</td>\n",
       "      <td>0</td>\n",
       "      <td>15648.881461</td>\n",
       "      <td>16017.881691</td>\n",
       "      <td>16017.881691</td>\n",
       "      <td>0.000000</td>\n",
       "      <td>0.000000</td>\n",
       "      <td>2001</td>\n",
       "      <td>4</td>\n",
       "    </tr>\n",
       "    <tr>\n",
       "      <th>2</th>\n",
       "      <td>2460006</td>\n",
       "      <td>102</td>\n",
       "      <td>2460006102</td>\n",
       "      <td>24</td>\n",
       "      <td>2022</td>\n",
       "      <td>A</td>\n",
       "      <td>A</td>\n",
       "      <td>A</td>\n",
       "      <td>A</td>\n",
       "      <td>A</td>\n",
       "      <td>...</td>\n",
       "      <td>0</td>\n",
       "      <td>0</td>\n",
       "      <td>0</td>\n",
       "      <td>14123.720178</td>\n",
       "      <td>16017.881691</td>\n",
       "      <td>12580.731740</td>\n",
       "      <td>0.000000</td>\n",
       "      <td>0.000000</td>\n",
       "      <td>2001</td>\n",
       "      <td>4</td>\n",
       "    </tr>\n",
       "    <tr>\n",
       "      <th>3</th>\n",
       "      <td>2460010</td>\n",
       "      <td>101</td>\n",
       "      <td>2460010101</td>\n",
       "      <td>24</td>\n",
       "      <td>2022</td>\n",
       "      <td>A</td>\n",
       "      <td>A</td>\n",
       "      <td>A</td>\n",
       "      <td>A</td>\n",
       "      <td>A</td>\n",
       "      <td>...</td>\n",
       "      <td>0</td>\n",
       "      <td>5288</td>\n",
       "      <td>299</td>\n",
       "      <td>16982.054917</td>\n",
       "      <td>21905.758877</td>\n",
       "      <td>21905.758877</td>\n",
       "      <td>0.000000</td>\n",
       "      <td>0.000000</td>\n",
       "      <td>2038</td>\n",
       "      <td>3</td>\n",
       "    </tr>\n",
       "    <tr>\n",
       "      <th>4</th>\n",
       "      <td>2460018</td>\n",
       "      <td>101</td>\n",
       "      <td>2460018101</td>\n",
       "      <td>24</td>\n",
       "      <td>2022</td>\n",
       "      <td>A</td>\n",
       "      <td>A</td>\n",
       "      <td>A</td>\n",
       "      <td>A</td>\n",
       "      <td>A</td>\n",
       "      <td>...</td>\n",
       "      <td>0</td>\n",
       "      <td>10</td>\n",
       "      <td>0</td>\n",
       "      <td>10682.619947</td>\n",
       "      <td>11344.291012</td>\n",
       "      <td>11344.291012</td>\n",
       "      <td>17152.439412</td>\n",
       "      <td>0.000000</td>\n",
       "      <td>2041</td>\n",
       "      <td>1</td>\n",
       "    </tr>\n",
       "  </tbody>\n",
       "</table>\n",
       "<p>5 rows × 1420 columns</p>\n",
       "</div>"
      ],
      "text/plain": [
       "      DUID  PID    DUPERSID  PANEL  DATAYEAR FAMID31 FAMID42 FAMID53 FAMID22  \\\n",
       "0  2460002  101  2460002101     24      2022       A       A       A       A   \n",
       "1  2460006  101  2460006101     24      2022       A       A       A       A   \n",
       "2  2460006  102  2460006102     24      2022       A       A       A       A   \n",
       "3  2460010  101  2460010101     24      2022       A       A       A       A   \n",
       "4  2460018  101  2460018101     24      2022       A       A       A       A   \n",
       "\n",
       "  FAMIDYR  ... RXOSR22  RXPTR22  RXOTH22      PERWT22F      FAMWT22F  \\\n",
       "0       A  ...       0        0        0   5728.309495   5232.211986   \n",
       "1       A  ...       0        0        0  15648.881461  16017.881691   \n",
       "2       A  ...       0        0        0  14123.720178  16017.881691   \n",
       "3       A  ...       0     5288      299  16982.054917  21905.758877   \n",
       "4       A  ...       0       10        0  10682.619947  11344.291012   \n",
       "\n",
       "       FAMWT22C      SAQWT22F     DIABW22F  VARSTR  VARPSU  \n",
       "0   5232.211986   3994.687140  6034.636755    2082       1  \n",
       "1  16017.881691      0.000000     0.000000    2001       4  \n",
       "2  12580.731740      0.000000     0.000000    2001       4  \n",
       "3  21905.758877      0.000000     0.000000    2038       3  \n",
       "4  11344.291012  17152.439412     0.000000    2041       1  \n",
       "\n",
       "[5 rows x 1420 columns]"
      ]
     },
     "execution_count": 3,
     "metadata": {},
     "output_type": "execute_result"
    }
   ],
   "source": [
    "df_cons = pd.read_parquet(\"/Users/orenj/Desktop/Projects/open-coverage/python-models/data/h243/h243.parquet\")\n",
    "\n",
    "df_cons.head()"
   ]
  },
  {
   "cell_type": "markdown",
   "id": "b01e561d",
   "metadata": {},
   "source": [
    "## Aggregate Event Files"
   ]
  },
  {
   "cell_type": "markdown",
   "id": "34363e78",
   "metadata": {},
   "source": [
    "Load data files for **Counts per Person**"
   ]
  },
  {
   "cell_type": "code",
   "execution_count": 9,
   "id": "29792f12",
   "metadata": {},
   "outputs": [],
   "source": [
    "event_files = {\n",
    "    \"pcp_visits\": \"/Users/orenj/Desktop/Projects/open-coverage/python-models/data/h248/h248g.xlsx\",            # Office-based visits\n",
    "    \"outpatient_visits\": \"/Users/orenj/Desktop/Projects/open-coverage/python-models/data/h248/h248f.xlsx\",     # Outpatient visits\n",
    "    \"er_visits\": \"/Users/orenj/Desktop/Projects/open-coverage/python-models/data/h248/h248e.xlsx\",             # Emergency Room visits\n",
    "    \"inpatient_admits\": \"/Users/orenj/Desktop/Projects/open-coverage/python-models/data/h248/h248d.xlsx\",      # Inpatient stays\n",
    "    \"home_health_visits\": \"/Users/orenj/Desktop/Projects/open-coverage/python-models/data/h248/h248h.xlsx\",    # Home health visits\n",
    "    \"rx_fills\": \"/Users/orenj/Desktop/Projects/open-coverage/python-models/data/h248/h248a.xlsx\",              # Prescription fills\n",
    "    \"dental_visits\": \"/Users/orenj/Desktop/Projects/open-coverage/python-models/data/h248/h248b.xlsx\",         # Dental visits\n",
    "    \"equipment_purchases\": \"/Users/orenj/Desktop/Projects/open-coverage/python-models/data/h248/h248c.xlsx\"    # Medical equipment/supplies\n",
    "}\n",
    "\n",
    "# Count records per DUPERSID for each event type\n",
    "counts_dict = {}\n",
    "for feat_name, filepath in event_files.items():\n",
    "    # Use pandas with usecols parameter (which works correctly)\n",
    "    df_evt = pd.read_excel(filepath, usecols=[\"DUPERSID\"])\n",
    "    \n",
    "    # Count occurrences per DUPERSID\n",
    "    counts = df_evt.groupby(\"DUPERSID\").size().rename(feat_name)\n",
    "    counts_dict[feat_name] = counts\n",
    "\n",
    "# Merge all counts into a single DataFrame\n",
    "counts_df = (\n",
    "    pd.concat(counts_dict.values(), axis=1)\n",
    "      .fillna(0)\n",
    "      .reset_index()\n",
    ")"
   ]
  },
  {
   "cell_type": "markdown",
   "id": "244b2507",
   "metadata": {},
   "source": [
    "## Merge consolidated with counts"
   ]
  },
  {
   "cell_type": "markdown",
   "id": "c4b4efeb",
   "metadata": {},
   "source": [
    "Doing an inner join on DUPERSID.\n",
    "\n",
    "DUPERSID: AHRQ‑generated person identifier (derived from dwelling/unit and person IDs). It uniquely identifies a respondent within a year, and from 2018 onward it’s constructed to be unique across panels/year."
   ]
  },
  {
   "cell_type": "code",
   "execution_count": 17,
   "id": "e2b5dbf3",
   "metadata": {},
   "outputs": [
    {
     "data": {
      "text/html": [
       "<div>\n",
       "<style scoped>\n",
       "    .dataframe tbody tr th:only-of-type {\n",
       "        vertical-align: middle;\n",
       "    }\n",
       "\n",
       "    .dataframe tbody tr th {\n",
       "        vertical-align: top;\n",
       "    }\n",
       "\n",
       "    .dataframe thead th {\n",
       "        text-align: right;\n",
       "    }\n",
       "</style>\n",
       "<table border=\"1\" class=\"dataframe\">\n",
       "  <thead>\n",
       "    <tr style=\"text-align: right;\">\n",
       "      <th></th>\n",
       "      <th>DUID</th>\n",
       "      <th>PID</th>\n",
       "      <th>DUPERSID</th>\n",
       "      <th>PANEL</th>\n",
       "      <th>DATAYEAR</th>\n",
       "      <th>FAMID31</th>\n",
       "      <th>FAMID42</th>\n",
       "      <th>FAMID53</th>\n",
       "      <th>FAMID22</th>\n",
       "      <th>FAMIDYR</th>\n",
       "      <th>...</th>\n",
       "      <th>VARSTR</th>\n",
       "      <th>VARPSU</th>\n",
       "      <th>pcp_visits</th>\n",
       "      <th>outpatient_visits</th>\n",
       "      <th>er_visits</th>\n",
       "      <th>inpatient_admits</th>\n",
       "      <th>home_health_visits</th>\n",
       "      <th>rx_fills</th>\n",
       "      <th>dental_visits</th>\n",
       "      <th>equipment_purchases</th>\n",
       "    </tr>\n",
       "  </thead>\n",
       "  <tbody>\n",
       "    <tr>\n",
       "      <th>0</th>\n",
       "      <td>2790002</td>\n",
       "      <td>101</td>\n",
       "      <td>2790002101</td>\n",
       "      <td>27</td>\n",
       "      <td>2022</td>\n",
       "      <td>A</td>\n",
       "      <td>A</td>\n",
       "      <td>A</td>\n",
       "      <td>A</td>\n",
       "      <td>A</td>\n",
       "      <td>...</td>\n",
       "      <td>2019</td>\n",
       "      <td>1</td>\n",
       "      <td>3.0</td>\n",
       "      <td>1.0</td>\n",
       "      <td>0.0</td>\n",
       "      <td>0.0</td>\n",
       "      <td>0.0</td>\n",
       "      <td>9.0</td>\n",
       "      <td>0.0</td>\n",
       "      <td>0.0</td>\n",
       "    </tr>\n",
       "    <tr>\n",
       "      <th>1</th>\n",
       "      <td>2790002</td>\n",
       "      <td>102</td>\n",
       "      <td>2790002102</td>\n",
       "      <td>27</td>\n",
       "      <td>2022</td>\n",
       "      <td>A</td>\n",
       "      <td>A</td>\n",
       "      <td>A</td>\n",
       "      <td>A</td>\n",
       "      <td>A</td>\n",
       "      <td>...</td>\n",
       "      <td>2019</td>\n",
       "      <td>1</td>\n",
       "      <td>1.0</td>\n",
       "      <td>0.0</td>\n",
       "      <td>0.0</td>\n",
       "      <td>0.0</td>\n",
       "      <td>0.0</td>\n",
       "      <td>0.0</td>\n",
       "      <td>2.0</td>\n",
       "      <td>1.0</td>\n",
       "    </tr>\n",
       "    <tr>\n",
       "      <th>2</th>\n",
       "      <td>2790004</td>\n",
       "      <td>101</td>\n",
       "      <td>2790004101</td>\n",
       "      <td>27</td>\n",
       "      <td>2022</td>\n",
       "      <td>A</td>\n",
       "      <td>A</td>\n",
       "      <td>A</td>\n",
       "      <td>A</td>\n",
       "      <td>A</td>\n",
       "      <td>...</td>\n",
       "      <td>2084</td>\n",
       "      <td>1</td>\n",
       "      <td>1.0</td>\n",
       "      <td>0.0</td>\n",
       "      <td>0.0</td>\n",
       "      <td>0.0</td>\n",
       "      <td>0.0</td>\n",
       "      <td>0.0</td>\n",
       "      <td>1.0</td>\n",
       "      <td>1.0</td>\n",
       "    </tr>\n",
       "    <tr>\n",
       "      <th>3</th>\n",
       "      <td>2790006</td>\n",
       "      <td>101</td>\n",
       "      <td>2790006101</td>\n",
       "      <td>27</td>\n",
       "      <td>2022</td>\n",
       "      <td>A</td>\n",
       "      <td>A</td>\n",
       "      <td>A</td>\n",
       "      <td>A</td>\n",
       "      <td>A</td>\n",
       "      <td>...</td>\n",
       "      <td>2113</td>\n",
       "      <td>1</td>\n",
       "      <td>3.0</td>\n",
       "      <td>0.0</td>\n",
       "      <td>0.0</td>\n",
       "      <td>0.0</td>\n",
       "      <td>1.0</td>\n",
       "      <td>26.0</td>\n",
       "      <td>0.0</td>\n",
       "      <td>1.0</td>\n",
       "    </tr>\n",
       "    <tr>\n",
       "      <th>4</th>\n",
       "      <td>2790011</td>\n",
       "      <td>101</td>\n",
       "      <td>2790011101</td>\n",
       "      <td>27</td>\n",
       "      <td>2022</td>\n",
       "      <td>A</td>\n",
       "      <td>A</td>\n",
       "      <td>A</td>\n",
       "      <td>A</td>\n",
       "      <td>A</td>\n",
       "      <td>...</td>\n",
       "      <td>2029</td>\n",
       "      <td>3</td>\n",
       "      <td>22.0</td>\n",
       "      <td>0.0</td>\n",
       "      <td>0.0</td>\n",
       "      <td>0.0</td>\n",
       "      <td>0.0</td>\n",
       "      <td>5.0</td>\n",
       "      <td>3.0</td>\n",
       "      <td>0.0</td>\n",
       "    </tr>\n",
       "  </tbody>\n",
       "</table>\n",
       "<p>5 rows × 1428 columns</p>\n",
       "</div>"
      ],
      "text/plain": [
       "      DUID  PID    DUPERSID  PANEL  DATAYEAR FAMID31 FAMID42 FAMID53 FAMID22  \\\n",
       "0  2790002  101  2790002101     27      2022       A       A       A       A   \n",
       "1  2790002  102  2790002102     27      2022       A       A       A       A   \n",
       "2  2790004  101  2790004101     27      2022       A       A       A       A   \n",
       "3  2790006  101  2790006101     27      2022       A       A       A       A   \n",
       "4  2790011  101  2790011101     27      2022       A       A       A       A   \n",
       "\n",
       "  FAMIDYR  ... VARSTR  VARPSU  pcp_visits outpatient_visits er_visits  \\\n",
       "0       A  ...   2019       1         3.0               1.0       0.0   \n",
       "1       A  ...   2019       1         1.0               0.0       0.0   \n",
       "2       A  ...   2084       1         1.0               0.0       0.0   \n",
       "3       A  ...   2113       1         3.0               0.0       0.0   \n",
       "4       A  ...   2029       3        22.0               0.0       0.0   \n",
       "\n",
       "  inpatient_admits home_health_visits  rx_fills  dental_visits  \\\n",
       "0              0.0                0.0       9.0            0.0   \n",
       "1              0.0                0.0       0.0            2.0   \n",
       "2              0.0                0.0       0.0            1.0   \n",
       "3              0.0                1.0      26.0            0.0   \n",
       "4              0.0                0.0       5.0            3.0   \n",
       "\n",
       "   equipment_purchases  \n",
       "0                  0.0  \n",
       "1                  1.0  \n",
       "2                  1.0  \n",
       "3                  1.0  \n",
       "4                  0.0  \n",
       "\n",
       "[5 rows x 1428 columns]"
      ]
     },
     "execution_count": 17,
     "metadata": {},
     "output_type": "execute_result"
    }
   ],
   "source": [
    "df = (\n",
    "    df_cons\n",
    "      .merge(counts_df, on=\"DUPERSID\", how=\"inner\")\n",
    "      .fillna(0)\n",
    ")\n",
    "df.head()"
   ]
  },
  {
   "cell_type": "code",
   "execution_count": 18,
   "id": "62dd9fd8",
   "metadata": {},
   "outputs": [
    {
     "data": {
      "text/plain": [
       "(7022, 1428)"
      ]
     },
     "execution_count": 18,
     "metadata": {},
     "output_type": "execute_result"
    }
   ],
   "source": [
    "df.shape"
   ]
  },
  {
   "cell_type": "markdown",
   "id": "b1702e54",
   "metadata": {},
   "source": [
    "# Select Features and Target Variables"
   ]
  },
  {
   "cell_type": "markdown",
   "id": "1eb45e49",
   "metadata": {},
   "source": [
    "| Feature                     | MEPS Variable | Description                                          | Source                                  |\n",
    "| --------------------------- | ------------- | ---------------------------------------------------- | --------------------------------------- |\n",
    "| **Person ID**               | `DUPERSID`    | Unique person identifier (for merges)                | ([Medical Expenditure Panel Survey][1]) |\n",
    "| **Age**                     | `AGE22X`      | Age as of 12/31/2022 (imputed)                       | ([Medical Expenditure Panel Survey][1]) |\n",
    "| **Sex**                     | `ADSEX42`     | Survey‑reported gender (1 = Male, 2 = Female)        | ([Medical Expenditure Panel Survey][1]) |\n",
    "| **Insurance Status**        | `INSCOV22`    | 1 = Any private • 2 = Public only • 3 = Uninsured    | ([Medical Expenditure Panel Survey][1]) |\n",
    "| **BMI**                     | `ADBMI42`     | Body mass index (>17) from Round 4/5                 | ([Medical Expenditure Panel Survey][1]) |\n",
    "| **Smoking Frequency**       | `ADOSTP42`    | “How often use tobacco” in past 12 months            | ([Medical Expenditure Panel Survey][1]) |\n",
    "| **Alcohol Consumption**     | `ADASKALC42`  | “12 months: alcohol consumption”                     | ([Medical Expenditure Panel Survey][1]) |\n",
    "| **Exercise**                | `ADDAYEXER42` | Average days/week of moderate/vigorous exercise      | ([Medical Expenditure Panel Survey][1]) |\n",
    "| **Chronic Condition Count** | `TOTCHRON`    | Number of chronic conditions                         | ([Medical Expenditure Panel Survey][1]) |\n",
    "| **Total Expenditures**      | `TOTEXP22`    | Sum of all payments in 2022 (your regression target) | ([Medical Expenditure Panel Survey][1]) |\n",
    "\n",
    "[1]: https://meps.ahrq.gov/mepsweb/data_stats/download_data_files_codebook.jsp?PUFId=H243 \"Medical Expenditure Panel Survey PUF Codebook\"\n"
   ]
  },
  {
   "cell_type": "code",
   "execution_count": 24,
   "id": "6f318196",
   "metadata": {},
   "outputs": [],
   "source": [
    "feature_cols = [\n",
    "    \"AGE22X\", \"ADSEX42\", \"INSCOV22\", \"ADBMI42\", \n",
    "    \"ADOSTP42\", \"ADASKALC42\", \"ADDAYEXER42\",\n",
    "    #\"TOTCHRON\",  can't find this feature right now\n",
    "    \"pcp_visits\", \n",
    "    #\"prior_year_specialist_visits\", can't find this feature right now\n",
    "    \"er_visits\", \n",
    "    \"inpatient_admits\",\n",
    "]\n",
    "count_targets = [\n",
    "    \"pcp_visits\", \"outpatient_visits\", \"er_visits\",\n",
    "    \"inpatient_admits\", \"home_health_visits\",\n",
    "    \"rx_fills\", \"dental_visits\", \"equipment_purchases\"\n",
    "]\n",
    "\n",
    "X = df[feature_cols]\n",
    "y = df[count_targets].clip(lower=0)"
   ]
  },
  {
   "cell_type": "markdown",
   "id": "fe8b5cdc",
   "metadata": {},
   "source": [
    "# Train/Test Split"
   ]
  },
  {
   "cell_type": "code",
   "execution_count": 25,
   "id": "7b80d9fe",
   "metadata": {},
   "outputs": [],
   "source": [
    "X_train, X_test, y_train, y_test = train_test_split(\n",
    "    X, y, test_size=0.2, random_state=42\n",
    ")"
   ]
  },
  {
   "cell_type": "markdown",
   "id": "92bfaf22",
   "metadata": {},
   "source": [
    "# Preprocessor for Categorical Features"
   ]
  },
  {
   "cell_type": "code",
   "execution_count": 28,
   "id": "aa26b2c1",
   "metadata": {},
   "outputs": [],
   "source": [
    "preprocessor = ColumnTransformer([\n",
    "    (\"cat\", OneHotEncoder(handle_unknown=\"ignore\", sparse_output=False), [\"AGE22X\", \"INSCOV22\"])\n",
    "], remainder=\"passthrough\")"
   ]
  },
  {
   "cell_type": "markdown",
   "id": "ab86e280",
   "metadata": {},
   "source": [
    "# Fit one Poisson GBM per count target"
   ]
  },
  {
   "cell_type": "code",
   "execution_count": 29,
   "id": "fce962d9",
   "metadata": {},
   "outputs": [],
   "source": [
    "models = {}\n",
    "preds = pd.DataFrame(index=X_test.index)\n",
    "\n",
    "for target in count_targets:\n",
    "    pipe = Pipeline([\n",
    "        (\"preproc\", preprocessor),\n",
    "        (\"model\", HistGradientBoostingRegressor(\n",
    "            loss=\"poisson\",\n",
    "            max_iter=200,\n",
    "            learning_rate=0.1,\n",
    "            random_state=42\n",
    "        ))\n",
    "    ])\n",
    "    pipe.fit(X_train, y_train[target])\n",
    "    models[target] = pipe\n",
    "    preds[target] = pipe.predict(X_test).clip(min=0)"
   ]
  },
  {
   "cell_type": "markdown",
   "id": "c86a227f",
   "metadata": {},
   "source": [
    "# Evaluate Each Count Model"
   ]
  },
  {
   "cell_type": "code",
   "execution_count": 35,
   "id": "eb515c36",
   "metadata": {},
   "outputs": [
    {
     "name": "stdout",
     "output_type": "stream",
     "text": [
      "Count Models Evaluation (per-category):\n",
      "                           MAE       RMSE\n",
      "feature                                  \n",
      "pcp_visits            0.153970   1.781011\n",
      "outpatient_visits     1.617641   5.118304\n",
      "er_visits             0.014882   0.151486\n",
      "inpatient_admits      0.002534   0.032686\n",
      "home_health_visits    0.518352   2.032774\n",
      "rx_fills             10.019091  18.140352\n",
      "dental_visits         1.146292   1.711277\n",
      "equipment_purchases   0.671357   0.905474\n"
     ]
    }
   ],
   "source": [
    "metrics = []\n",
    "for target in count_targets:\n",
    "    mae = mean_absolute_error(y_test[target], preds[target])\n",
    "    rmse = root_mean_squared_error(y_test[target], preds[target])\n",
    "    metrics.append({\n",
    "        \"feature\": target,\n",
    "        \"MAE\": mae,\n",
    "        \"RMSE\": rmse\n",
    "    })\n",
    "\n",
    "metrics_df = pd.DataFrame(metrics).set_index(\"feature\")\n",
    "print(\"Count Models Evaluation (per-category):\")\n",
    "print(metrics_df)"
   ]
  },
  {
   "cell_type": "markdown",
   "id": "37cf417e",
   "metadata": {},
   "source": [
    "# Compose Total Allowed Cost (placeholder unit costs)"
   ]
  },
  {
   "cell_type": "markdown",
   "id": "6c524e92",
   "metadata": {},
   "source": [
    "Replace `unit_costs` with your actual costs per category"
   ]
  },
  {
   "cell_type": "code",
   "execution_count": 36,
   "id": "1dd87e0d",
   "metadata": {},
   "outputs": [],
   "source": [
    "unit_costs = {\n",
    "    \"pcp_visits\":        120,\n",
    "    \"outpatient_visits\": 250,\n",
    "    \"er_visits\":         1600,\n",
    "    \"inpatient_admits\":  18000,\n",
    "    \"home_health_visits\": 100,\n",
    "    \"rx_fills\":           85,\n",
    "    \"dental_visits\":      200,\n",
    "    \"equipment_purchases\": 500\n",
    "}"
   ]
  },
  {
   "cell_type": "markdown",
   "id": "7e6e19aa",
   "metadata": {},
   "source": [
    "Compute composed allowed cost for each test record"
   ]
  },
  {
   "cell_type": "code",
   "execution_count": 37,
   "id": "306e690e",
   "metadata": {},
   "outputs": [],
   "source": [
    "composed = preds.copy()\n",
    "for cat, cost in unit_costs.items():\n",
    "    composed[cat] *= cost\n",
    "\n",
    "composed[\"total_allowed_pred\"] = composed.sum(axis=1)"
   ]
  },
  {
   "cell_type": "markdown",
   "id": "6dc77b02",
   "metadata": {},
   "source": [
    "Evaluate composed total allowed cost against MEPS target (TOTEXP as proxy)\n",
    "\n",
    "Note: TOTEXP includes all payments – check alignment with your unit_costs definitions"
   ]
  },
  {
   "cell_type": "code",
   "execution_count": 41,
   "id": "9ba23c64",
   "metadata": {},
   "outputs": [
    {
     "name": "stdout",
     "output_type": "stream",
     "text": [
      "\n",
      "Composed Total Allowed Cost MAE: $7,844.22\n",
      "Composed Total Allowed Cost RMSE: $25,545.28\n"
     ]
    }
   ],
   "source": [
    "true_total = df.loc[X_test.index, \"TOTEXP22\"]\n",
    "mae_tot = mean_absolute_error(true_total, composed[\"total_allowed_pred\"])\n",
    "rmse_tot = root_mean_squared_error(true_total, composed[\"total_allowed_pred\"])\n",
    "print(f\"\\nComposed Total Allowed Cost MAE: ${mae_tot:,.2f}\")\n",
    "print(f\"Composed Total Allowed Cost RMSE: ${rmse_tot:,.2f}\")"
   ]
  }
 ],
 "metadata": {
  "kernelspec": {
   "display_name": "base",
   "language": "python",
   "name": "python3"
  },
  "language_info": {
   "codemirror_mode": {
    "name": "ipython",
    "version": 3
   },
   "file_extension": ".py",
   "mimetype": "text/x-python",
   "name": "python",
   "nbconvert_exporter": "python",
   "pygments_lexer": "ipython3",
   "version": "3.12.2"
  }
 },
 "nbformat": 4,
 "nbformat_minor": 5
}
