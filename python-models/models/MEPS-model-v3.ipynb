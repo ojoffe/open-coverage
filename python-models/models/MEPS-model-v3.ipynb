{
 "cells": [
  {
   "cell_type": "code",
   "execution_count": null,
   "id": "714ff4d9",
   "metadata": {},
   "outputs": [],
   "source": [
    "# Install shap if not available\n",
    "import sys\n",
    "!{sys.executable} -m pip install shap"
   ]
  },
  {
   "cell_type": "markdown",
   "id": "0b713b68",
   "metadata": {},
   "source": [
    "# What does this model do?"
   ]
  },
  {
   "cell_type": "markdown",
   "id": "5fc33919",
   "metadata": {},
   "source": [
    "**Predicts utilization counts for each category (e.g., PCP visits, Rx fills, inpatient stays).**\n",
    "\n",
    "These counts will be multiplied by their respective insurance policy costs.\n",
    "\n",
    "Model is trained on MEPS data: https://meps.ahrq.gov/mepsweb/data_stats/download_data_files.jsp\n",
    "\n",
    "Lots of this research is based off this textbook from my undergrad: https://bookdown.org/roback/bookdown-BeyondMLR/ch-poissonreg.html\n",
    "\n",
    "Model v3 will be a Poisson regression model to enhance explainability."
   ]
  },
  {
   "cell_type": "markdown",
   "id": "78df62de",
   "metadata": {},
   "source": [
    "# Imports"
   ]
  },
  {
   "cell_type": "code",
   "execution_count": 69,
   "id": "163eb349",
   "metadata": {},
   "outputs": [],
   "source": [
    "import pandas as pd\n",
    "import polars as pl # using polars library for large .xlsx files\n",
    "import numpy as np\n",
    "import matplotlib.pyplot as plt\n",
    "from sklearn.model_selection import train_test_split\n",
    "from sklearn.pipeline import Pipeline\n",
    "from sklearn.compose import ColumnTransformer\n",
    "from sklearn.preprocessing import OneHotEncoder\n",
    "from sklearn.metrics import mean_absolute_error, root_mean_squared_error\n",
    "from sklearn.preprocessing import FunctionTransformer\n",
    "from sklearn.preprocessing import StandardScaler\n",
    "\n",
    "import joblib"
   ]
  },
  {
   "cell_type": "markdown",
   "id": "19412b52",
   "metadata": {},
   "source": [
    "# Load MEPS Data"
   ]
  },
  {
   "cell_type": "markdown",
   "id": "f08aa17e",
   "metadata": {},
   "source": [
    "ChatGPT: Use consolidated from year t and counts from year t+1 if you're predicting future utilization (prospective), which is better for real-world use.\n",
    "\n",
    "We are using consolidated from 2022 and counts from 2023."
   ]
  },
  {
   "cell_type": "markdown",
   "id": "10043d23",
   "metadata": {},
   "source": [
    "## Consolidated Data"
   ]
  },
  {
   "cell_type": "markdown",
   "id": "d0e06113",
   "metadata": {},
   "source": [
    "**Skip if h243.xlsx has already been converted to .csv and .parquet.**"
   ]
  },
  {
   "cell_type": "code",
   "execution_count": null,
   "id": "e58ed7fd",
   "metadata": {},
   "outputs": [],
   "source": [
    "# Define schema for problematic columns\n",
    "schema_overrides = {\n",
    "    'HRWG53X': pl.Float64,  # Use float instead of int for decimal values\n",
    "    # Add other problematic columns as needed\n",
    "}\n",
    "\n",
    "df = pl.read_excel(\n",
    "    \"/Users/orenj/Desktop/Projects/open-coverage/python-models/data/h243.xlsx\",\n",
    "    schema_overrides=schema_overrides\n",
    ")\n",
    "\n",
    "df.head()"
   ]
  },
  {
   "cell_type": "markdown",
   "id": "2a70bd9e",
   "metadata": {},
   "source": [
    "Convert to faster data formats for later use"
   ]
  },
  {
   "cell_type": "code",
   "execution_count": null,
   "id": "1e7b4892",
   "metadata": {},
   "outputs": [],
   "source": [
    "df.write_csv(\"/Users/orenj/Desktop/Projects/open-coverage/python-models/data/h243.csv\")  # Much faster for future loads\n",
    "df.write_parquet(\"/Users/orenj/Desktop/Projects/open-coverage/python-models/data/h243.parquet\")  # Even faster, compressed"
   ]
  },
  {
   "cell_type": "markdown",
   "id": "71873eac",
   "metadata": {},
   "source": [
    "Load MEPS Consolidated File (person-level features + target)"
   ]
  },
  {
   "cell_type": "code",
   "execution_count": 14,
   "id": "8325ffa9",
   "metadata": {},
   "outputs": [
    {
     "data": {
      "text/html": [
       "<div>\n",
       "<style scoped>\n",
       "    .dataframe tbody tr th:only-of-type {\n",
       "        vertical-align: middle;\n",
       "    }\n",
       "\n",
       "    .dataframe tbody tr th {\n",
       "        vertical-align: top;\n",
       "    }\n",
       "\n",
       "    .dataframe thead th {\n",
       "        text-align: right;\n",
       "    }\n",
       "</style>\n",
       "<table border=\"1\" class=\"dataframe\">\n",
       "  <thead>\n",
       "    <tr style=\"text-align: right;\">\n",
       "      <th></th>\n",
       "      <th>DUID</th>\n",
       "      <th>PID</th>\n",
       "      <th>DUPERSID</th>\n",
       "      <th>PANEL</th>\n",
       "      <th>DATAYEAR</th>\n",
       "      <th>FAMID31</th>\n",
       "      <th>FAMID42</th>\n",
       "      <th>FAMID53</th>\n",
       "      <th>FAMID22</th>\n",
       "      <th>FAMIDYR</th>\n",
       "      <th>...</th>\n",
       "      <th>RXOSR22</th>\n",
       "      <th>RXPTR22</th>\n",
       "      <th>RXOTH22</th>\n",
       "      <th>PERWT22F</th>\n",
       "      <th>FAMWT22F</th>\n",
       "      <th>FAMWT22C</th>\n",
       "      <th>SAQWT22F</th>\n",
       "      <th>DIABW22F</th>\n",
       "      <th>VARSTR</th>\n",
       "      <th>VARPSU</th>\n",
       "    </tr>\n",
       "  </thead>\n",
       "  <tbody>\n",
       "    <tr>\n",
       "      <th>0</th>\n",
       "      <td>2460002</td>\n",
       "      <td>101</td>\n",
       "      <td>2460002101</td>\n",
       "      <td>24</td>\n",
       "      <td>2022</td>\n",
       "      <td>A</td>\n",
       "      <td>A</td>\n",
       "      <td>A</td>\n",
       "      <td>A</td>\n",
       "      <td>A</td>\n",
       "      <td>...</td>\n",
       "      <td>0</td>\n",
       "      <td>0</td>\n",
       "      <td>0</td>\n",
       "      <td>5728.309495</td>\n",
       "      <td>5232.211986</td>\n",
       "      <td>5232.211986</td>\n",
       "      <td>3994.687140</td>\n",
       "      <td>6034.636755</td>\n",
       "      <td>2082</td>\n",
       "      <td>1</td>\n",
       "    </tr>\n",
       "    <tr>\n",
       "      <th>1</th>\n",
       "      <td>2460006</td>\n",
       "      <td>101</td>\n",
       "      <td>2460006101</td>\n",
       "      <td>24</td>\n",
       "      <td>2022</td>\n",
       "      <td>A</td>\n",
       "      <td>A</td>\n",
       "      <td>A</td>\n",
       "      <td>A</td>\n",
       "      <td>A</td>\n",
       "      <td>...</td>\n",
       "      <td>0</td>\n",
       "      <td>0</td>\n",
       "      <td>0</td>\n",
       "      <td>15648.881461</td>\n",
       "      <td>16017.881691</td>\n",
       "      <td>16017.881691</td>\n",
       "      <td>0.000000</td>\n",
       "      <td>0.000000</td>\n",
       "      <td>2001</td>\n",
       "      <td>4</td>\n",
       "    </tr>\n",
       "    <tr>\n",
       "      <th>2</th>\n",
       "      <td>2460006</td>\n",
       "      <td>102</td>\n",
       "      <td>2460006102</td>\n",
       "      <td>24</td>\n",
       "      <td>2022</td>\n",
       "      <td>A</td>\n",
       "      <td>A</td>\n",
       "      <td>A</td>\n",
       "      <td>A</td>\n",
       "      <td>A</td>\n",
       "      <td>...</td>\n",
       "      <td>0</td>\n",
       "      <td>0</td>\n",
       "      <td>0</td>\n",
       "      <td>14123.720178</td>\n",
       "      <td>16017.881691</td>\n",
       "      <td>12580.731740</td>\n",
       "      <td>0.000000</td>\n",
       "      <td>0.000000</td>\n",
       "      <td>2001</td>\n",
       "      <td>4</td>\n",
       "    </tr>\n",
       "    <tr>\n",
       "      <th>3</th>\n",
       "      <td>2460010</td>\n",
       "      <td>101</td>\n",
       "      <td>2460010101</td>\n",
       "      <td>24</td>\n",
       "      <td>2022</td>\n",
       "      <td>A</td>\n",
       "      <td>A</td>\n",
       "      <td>A</td>\n",
       "      <td>A</td>\n",
       "      <td>A</td>\n",
       "      <td>...</td>\n",
       "      <td>0</td>\n",
       "      <td>5288</td>\n",
       "      <td>299</td>\n",
       "      <td>16982.054917</td>\n",
       "      <td>21905.758877</td>\n",
       "      <td>21905.758877</td>\n",
       "      <td>0.000000</td>\n",
       "      <td>0.000000</td>\n",
       "      <td>2038</td>\n",
       "      <td>3</td>\n",
       "    </tr>\n",
       "    <tr>\n",
       "      <th>4</th>\n",
       "      <td>2460018</td>\n",
       "      <td>101</td>\n",
       "      <td>2460018101</td>\n",
       "      <td>24</td>\n",
       "      <td>2022</td>\n",
       "      <td>A</td>\n",
       "      <td>A</td>\n",
       "      <td>A</td>\n",
       "      <td>A</td>\n",
       "      <td>A</td>\n",
       "      <td>...</td>\n",
       "      <td>0</td>\n",
       "      <td>10</td>\n",
       "      <td>0</td>\n",
       "      <td>10682.619947</td>\n",
       "      <td>11344.291012</td>\n",
       "      <td>11344.291012</td>\n",
       "      <td>17152.439412</td>\n",
       "      <td>0.000000</td>\n",
       "      <td>2041</td>\n",
       "      <td>1</td>\n",
       "    </tr>\n",
       "  </tbody>\n",
       "</table>\n",
       "<p>5 rows × 1420 columns</p>\n",
       "</div>"
      ],
      "text/plain": [
       "      DUID  PID    DUPERSID  PANEL  DATAYEAR FAMID31 FAMID42 FAMID53 FAMID22  \\\n",
       "0  2460002  101  2460002101     24      2022       A       A       A       A   \n",
       "1  2460006  101  2460006101     24      2022       A       A       A       A   \n",
       "2  2460006  102  2460006102     24      2022       A       A       A       A   \n",
       "3  2460010  101  2460010101     24      2022       A       A       A       A   \n",
       "4  2460018  101  2460018101     24      2022       A       A       A       A   \n",
       "\n",
       "  FAMIDYR  ... RXOSR22  RXPTR22  RXOTH22      PERWT22F      FAMWT22F  \\\n",
       "0       A  ...       0        0        0   5728.309495   5232.211986   \n",
       "1       A  ...       0        0        0  15648.881461  16017.881691   \n",
       "2       A  ...       0        0        0  14123.720178  16017.881691   \n",
       "3       A  ...       0     5288      299  16982.054917  21905.758877   \n",
       "4       A  ...       0       10        0  10682.619947  11344.291012   \n",
       "\n",
       "       FAMWT22C      SAQWT22F     DIABW22F  VARSTR  VARPSU  \n",
       "0   5232.211986   3994.687140  6034.636755    2082       1  \n",
       "1  16017.881691      0.000000     0.000000    2001       4  \n",
       "2  12580.731740      0.000000     0.000000    2001       4  \n",
       "3  21905.758877      0.000000     0.000000    2038       3  \n",
       "4  11344.291012  17152.439412     0.000000    2041       1  \n",
       "\n",
       "[5 rows x 1420 columns]"
      ]
     },
     "execution_count": 14,
     "metadata": {},
     "output_type": "execute_result"
    }
   ],
   "source": [
    "df_cons = pd.read_parquet(\"/Users/orenj/Desktop/Projects/open-coverage/python-models/data/MEPS/2022-consolidated/h243.parquet\")\n",
    "\n",
    "df_cons.head()"
   ]
  },
  {
   "cell_type": "markdown",
   "id": "b01e561d",
   "metadata": {},
   "source": [
    "## Aggregate Event Files"
   ]
  },
  {
   "cell_type": "markdown",
   "id": "34363e78",
   "metadata": {},
   "source": [
    "Load data files for **Counts per Person**"
   ]
  },
  {
   "cell_type": "code",
   "execution_count": 15,
   "id": "29792f12",
   "metadata": {},
   "outputs": [],
   "source": [
    "event_files = {\n",
    "    \"pcp_visits\": \"/Users/orenj/Desktop/Projects/open-coverage/python-models/data/MEPS/2023-counts/h248g.xlsx\",            # Office-based visits\n",
    "    \"outpatient_visits\": \"/Users/orenj/Desktop/Projects/open-coverage/python-models/data/MEPS/2023-counts/h248f.xlsx\",     # Outpatient visits\n",
    "    \"er_visits\": \"/Users/orenj/Desktop/Projects/open-coverage/python-models/data/MEPS/2023-counts/h248e.xlsx\",             # Emergency Room visits\n",
    "    \"inpatient_admits\": \"/Users/orenj/Desktop/Projects/open-coverage/python-models/data/MEPS/2023-counts/h248d.xlsx\",      # Inpatient stays\n",
    "    \"home_health_visits\": \"/Users/orenj/Desktop/Projects/open-coverage/python-models/data/MEPS/2023-counts/h248h.xlsx\",    # Home health visits\n",
    "    \"rx_fills\": \"/Users/orenj/Desktop/Projects/open-coverage/python-models/data/MEPS/2023-counts/h248a.xlsx\",              # Prescription fills\n",
    "    \"dental_visits\": \"/Users/orenj/Desktop/Projects/open-coverage/python-models/data/MEPS/2023-counts/h248b.xlsx\",         # Dental visits\n",
    "    \"equipment_purchases\": \"/Users/orenj/Desktop/Projects/open-coverage/python-models/data/MEPS/2023-counts/h248c.xlsx\"    # Medical equipment/supplies\n",
    "}\n",
    "\n",
    "# Count records per DUPERSID for each event type\n",
    "counts_dict = {}\n",
    "for feat_name, filepath in event_files.items():\n",
    "    # Use pandas with usecols parameter (which works correctly)\n",
    "    df_evt = pd.read_excel(filepath, usecols=[\"DUPERSID\"])\n",
    "    \n",
    "    # Count occurrences per DUPERSID\n",
    "    counts = df_evt.groupby(\"DUPERSID\").size().rename(feat_name)\n",
    "    counts_dict[feat_name] = counts\n",
    "\n",
    "# Merge all counts into a single DataFrame\n",
    "counts_df = (\n",
    "    pd.concat(counts_dict.values(), axis=1)\n",
    "      .fillna(0)\n",
    "      .reset_index()\n",
    ")"
   ]
  },
  {
   "cell_type": "markdown",
   "id": "244b2507",
   "metadata": {},
   "source": [
    "## Merge consolidated with counts"
   ]
  },
  {
   "cell_type": "markdown",
   "id": "c4b4efeb",
   "metadata": {},
   "source": [
    "Doing a left join on DUPERSID so everyone is included in the dataset. Also need to predict those with zero events.\n",
    "\n",
    "DUPERSID: AHRQ‑generated person identifier (derived from dwelling/unit and person IDs). It uniquely identifies a respondent within a year, and from 2018 onward it’s constructed to be unique across panels/year."
   ]
  },
  {
   "cell_type": "code",
   "execution_count": 16,
   "id": "e2b5dbf3",
   "metadata": {},
   "outputs": [
    {
     "data": {
      "text/html": [
       "<div>\n",
       "<style scoped>\n",
       "    .dataframe tbody tr th:only-of-type {\n",
       "        vertical-align: middle;\n",
       "    }\n",
       "\n",
       "    .dataframe tbody tr th {\n",
       "        vertical-align: top;\n",
       "    }\n",
       "\n",
       "    .dataframe thead th {\n",
       "        text-align: right;\n",
       "    }\n",
       "</style>\n",
       "<table border=\"1\" class=\"dataframe\">\n",
       "  <thead>\n",
       "    <tr style=\"text-align: right;\">\n",
       "      <th></th>\n",
       "      <th>DUID</th>\n",
       "      <th>PID</th>\n",
       "      <th>DUPERSID</th>\n",
       "      <th>PANEL</th>\n",
       "      <th>DATAYEAR</th>\n",
       "      <th>FAMID31</th>\n",
       "      <th>FAMID42</th>\n",
       "      <th>FAMID53</th>\n",
       "      <th>FAMID22</th>\n",
       "      <th>FAMIDYR</th>\n",
       "      <th>...</th>\n",
       "      <th>VARSTR</th>\n",
       "      <th>VARPSU</th>\n",
       "      <th>pcp_visits</th>\n",
       "      <th>outpatient_visits</th>\n",
       "      <th>er_visits</th>\n",
       "      <th>inpatient_admits</th>\n",
       "      <th>home_health_visits</th>\n",
       "      <th>rx_fills</th>\n",
       "      <th>dental_visits</th>\n",
       "      <th>equipment_purchases</th>\n",
       "    </tr>\n",
       "  </thead>\n",
       "  <tbody>\n",
       "    <tr>\n",
       "      <th>0</th>\n",
       "      <td>2460002</td>\n",
       "      <td>101</td>\n",
       "      <td>2460002101</td>\n",
       "      <td>24</td>\n",
       "      <td>2022</td>\n",
       "      <td>A</td>\n",
       "      <td>A</td>\n",
       "      <td>A</td>\n",
       "      <td>A</td>\n",
       "      <td>A</td>\n",
       "      <td>...</td>\n",
       "      <td>2082</td>\n",
       "      <td>1</td>\n",
       "      <td>0.0</td>\n",
       "      <td>0.0</td>\n",
       "      <td>0.0</td>\n",
       "      <td>0.0</td>\n",
       "      <td>0.0</td>\n",
       "      <td>0.0</td>\n",
       "      <td>0.0</td>\n",
       "      <td>0.0</td>\n",
       "    </tr>\n",
       "    <tr>\n",
       "      <th>1</th>\n",
       "      <td>2460006</td>\n",
       "      <td>101</td>\n",
       "      <td>2460006101</td>\n",
       "      <td>24</td>\n",
       "      <td>2022</td>\n",
       "      <td>A</td>\n",
       "      <td>A</td>\n",
       "      <td>A</td>\n",
       "      <td>A</td>\n",
       "      <td>A</td>\n",
       "      <td>...</td>\n",
       "      <td>2001</td>\n",
       "      <td>4</td>\n",
       "      <td>0.0</td>\n",
       "      <td>0.0</td>\n",
       "      <td>0.0</td>\n",
       "      <td>0.0</td>\n",
       "      <td>0.0</td>\n",
       "      <td>0.0</td>\n",
       "      <td>0.0</td>\n",
       "      <td>0.0</td>\n",
       "    </tr>\n",
       "    <tr>\n",
       "      <th>2</th>\n",
       "      <td>2460006</td>\n",
       "      <td>102</td>\n",
       "      <td>2460006102</td>\n",
       "      <td>24</td>\n",
       "      <td>2022</td>\n",
       "      <td>A</td>\n",
       "      <td>A</td>\n",
       "      <td>A</td>\n",
       "      <td>A</td>\n",
       "      <td>A</td>\n",
       "      <td>...</td>\n",
       "      <td>2001</td>\n",
       "      <td>4</td>\n",
       "      <td>0.0</td>\n",
       "      <td>0.0</td>\n",
       "      <td>0.0</td>\n",
       "      <td>0.0</td>\n",
       "      <td>0.0</td>\n",
       "      <td>0.0</td>\n",
       "      <td>0.0</td>\n",
       "      <td>0.0</td>\n",
       "    </tr>\n",
       "    <tr>\n",
       "      <th>3</th>\n",
       "      <td>2460010</td>\n",
       "      <td>101</td>\n",
       "      <td>2460010101</td>\n",
       "      <td>24</td>\n",
       "      <td>2022</td>\n",
       "      <td>A</td>\n",
       "      <td>A</td>\n",
       "      <td>A</td>\n",
       "      <td>A</td>\n",
       "      <td>A</td>\n",
       "      <td>...</td>\n",
       "      <td>2038</td>\n",
       "      <td>3</td>\n",
       "      <td>0.0</td>\n",
       "      <td>0.0</td>\n",
       "      <td>0.0</td>\n",
       "      <td>0.0</td>\n",
       "      <td>0.0</td>\n",
       "      <td>0.0</td>\n",
       "      <td>0.0</td>\n",
       "      <td>0.0</td>\n",
       "    </tr>\n",
       "    <tr>\n",
       "      <th>4</th>\n",
       "      <td>2460018</td>\n",
       "      <td>101</td>\n",
       "      <td>2460018101</td>\n",
       "      <td>24</td>\n",
       "      <td>2022</td>\n",
       "      <td>A</td>\n",
       "      <td>A</td>\n",
       "      <td>A</td>\n",
       "      <td>A</td>\n",
       "      <td>A</td>\n",
       "      <td>...</td>\n",
       "      <td>2041</td>\n",
       "      <td>1</td>\n",
       "      <td>0.0</td>\n",
       "      <td>0.0</td>\n",
       "      <td>0.0</td>\n",
       "      <td>0.0</td>\n",
       "      <td>0.0</td>\n",
       "      <td>0.0</td>\n",
       "      <td>0.0</td>\n",
       "      <td>0.0</td>\n",
       "    </tr>\n",
       "  </tbody>\n",
       "</table>\n",
       "<p>5 rows × 1428 columns</p>\n",
       "</div>"
      ],
      "text/plain": [
       "      DUID  PID    DUPERSID  PANEL  DATAYEAR FAMID31 FAMID42 FAMID53 FAMID22  \\\n",
       "0  2460002  101  2460002101     24      2022       A       A       A       A   \n",
       "1  2460006  101  2460006101     24      2022       A       A       A       A   \n",
       "2  2460006  102  2460006102     24      2022       A       A       A       A   \n",
       "3  2460010  101  2460010101     24      2022       A       A       A       A   \n",
       "4  2460018  101  2460018101     24      2022       A       A       A       A   \n",
       "\n",
       "  FAMIDYR  ... VARSTR  VARPSU  pcp_visits outpatient_visits er_visits  \\\n",
       "0       A  ...   2082       1         0.0               0.0       0.0   \n",
       "1       A  ...   2001       4         0.0               0.0       0.0   \n",
       "2       A  ...   2001       4         0.0               0.0       0.0   \n",
       "3       A  ...   2038       3         0.0               0.0       0.0   \n",
       "4       A  ...   2041       1         0.0               0.0       0.0   \n",
       "\n",
       "  inpatient_admits home_health_visits  rx_fills  dental_visits  \\\n",
       "0              0.0                0.0       0.0            0.0   \n",
       "1              0.0                0.0       0.0            0.0   \n",
       "2              0.0                0.0       0.0            0.0   \n",
       "3              0.0                0.0       0.0            0.0   \n",
       "4              0.0                0.0       0.0            0.0   \n",
       "\n",
       "   equipment_purchases  \n",
       "0                  0.0  \n",
       "1                  0.0  \n",
       "2                  0.0  \n",
       "3                  0.0  \n",
       "4                  0.0  \n",
       "\n",
       "[5 rows x 1428 columns]"
      ]
     },
     "execution_count": 16,
     "metadata": {},
     "output_type": "execute_result"
    }
   ],
   "source": [
    "df = (\n",
    "    df_cons\n",
    "      .merge(counts_df, on=\"DUPERSID\", how=\"left\")\n",
    "      .fillna(0)\n",
    ")\n",
    "df.head()"
   ]
  },
  {
   "cell_type": "code",
   "execution_count": 17,
   "id": "62dd9fd8",
   "metadata": {},
   "outputs": [
    {
     "data": {
      "text/plain": [
       "(22431, 1428)"
      ]
     },
     "execution_count": 17,
     "metadata": {},
     "output_type": "execute_result"
    }
   ],
   "source": [
    "df.shape"
   ]
  },
  {
   "cell_type": "markdown",
   "id": "b1702e54",
   "metadata": {},
   "source": [
    "# Select Features and Target Variables"
   ]
  },
  {
   "cell_type": "markdown",
   "id": "cd62acf2",
   "metadata": {},
   "source": [
    "Reduced feature set to 10 from model v2 after doing SHAP value analysis. Below are the features and their descriptions."
   ]
  },
  {
   "cell_type": "markdown",
   "id": "ef87d82f",
   "metadata": {},
   "source": [
    "| **Category**               | **Feature**                 | **Variable Name**                  | **Description**                                                    |\n",
    "| -------------------------- | --------------------------- | ---------------------------------- | ------------------------------------------------------------------ |\n",
    "| **Identifiers**            | Person ID                   | `person_id`                        | Unique person identifier (for merges)                              |\n",
    "| **Demographics**           | Age                         | `age_years_2022`                   | Age as of 12/31/2022 (imputed)                                     |\n",
    "|                            | Sex                         | `gender`                           | Survey-reported gender (1 = Male, 2 = Female)                      |\n",
    "|                            | Race/Ethnicity              | `race_ethnicity`                   | Detailed race and ethnicity categories                             |\n",
    "|                            | Region                      | `census_region`                    | Census region (Northeast, Midwest, South, West)                    |\n",
    "| **Socioeconomic**          | Employment Status           | `employment_status`                | Employed full-/part-time vs. unemployed/inactive                   |\n",
    "|                            | Family Size                 | `family_size`                      | Number of people in the family unit                                |\n",
    "| **Access & Utilization**   | Usual Source of Care        | `has_usual_source_of_care`         | Has a usual source of medical care                                 |\n",
    "| **Behaviors & Lifestyle**  | BMI                         | `bmi`                              | Body Mass Index (>17) from Round 4/5                               |\n",
    "| **Functional & Cognitive** | Difficulty Walking/Stairs   | `difficulty_walking_stairs`        | Serious difficulty walking or climbing stairs                      |\n",
    "|                            | Any Activity Limitation     | `any_activity_limitation`          | Any limitation in usual activities due to health                   |\n",
    "|                            | Psychological Distress (K6) | `k6_distress_score`                | Kessler 6-item psychological distress score (0–24)                 |\n",
    "| **Outcome**                | Total Expenditures (target) | `total_expenditures_2022`          | Sum of all payments in 2022                                        |\n"
   ]
  },
  {
   "cell_type": "markdown",
   "id": "4af6ef1d",
   "metadata": {},
   "source": [
    "### Rename input variables"
   ]
  },
  {
   "cell_type": "code",
   "execution_count": 64,
   "id": "c7c0d481",
   "metadata": {},
   "outputs": [],
   "source": [
    "# Rename MEPS columns to descriptive names\n",
    "df.rename(columns={\n",
    "    \"DUPERSID\": \"person_id\",\n",
    "    \"AGE22X\": \"age_years_2022\",\n",
    "    \"ADSEX42\": \"gender\",\n",
    "    \"RACETHX\": \"race_ethnicity\",\n",
    "    \"HISPNCAT\": \"hispanic_origin_category\",\n",
    "    \"REGION22\": \"census_region\",\n",
    "    \"MSA22\": \"metro_status\",\n",
    "    \"EDUCYR\": \"education_years\",\n",
    "    \"HIDEG\": \"highest_degree_achieved\",\n",
    "    \"FAMINC22\": \"family_income_2022\",\n",
    "    \"POVLEV22\": \"poverty_level_pct\",\n",
    "    \"POVCAT22\": \"poverty_category\",\n",
    "    \"EMPST42\": \"employment_status\",\n",
    "    \"HOUR42\": \"hours_worked_per_week\",\n",
    "    \"OCCCAT42\": \"occupation_industry_category\",\n",
    "    \"FAMSZE22\": \"family_size\",\n",
    "    \"MARRY22X\": \"marital_status\",\n",
    "    \"SPOUIN22\": \"spouse_in_household\",\n",
    "    \"INSCOV22\": \"insurance_coverage_type\",\n",
    "    \"HAVEUS42\": \"has_usual_source_of_care\",\n",
    "    \"LOCATN42\": \"usual_care_location_type\",\n",
    "    \"AFRDCA42\": \"delayed_care_due_to_cost\",\n",
    "    \"DLAYPM42\": \"delayed_prescription_due_to_cost\",\n",
    "    \"FOODST22\": \"received_snap\",\n",
    "    \"FOODVL22\": \"snap_benefit_value_2022\",\n",
    "    \"ADBMI42\": \"bmi\",\n",
    "    \"ADOSTP42\": \"smoking_frequency\",\n",
    "    \"ADASKALC42\": \"alcohol_consumption_frequency\",\n",
    "    \"ADDAYEXER42\": \"exercise_days_per_week\",\n",
    "    \"HWELLSPK\": \"english_proficiency\",\n",
    "    \"BORNUSA\": \"us_born_flag\",\n",
    "    \"YRSINUS\": \"years_in_us\",\n",
    "    \"LFTDIF31\": \"difficulty_lifting_carrying\",\n",
    "    \"DFWLKC42\": \"difficulty_walking_stairs\",\n",
    "    \"ACTLIM31\": \"any_activity_limitation\",\n",
    "    \"COGLIM31\": \"cognitive_limitation\",\n",
    "    \"K6SUM42\": \"k6_distress_score\",\n",
    "    \"ADHOPE42\": \"hopelessness_frequency_30d\",\n",
    "    \"ADSAD42\": \"sadness_frequency_30d\",\n",
    "    \"TOTEXP22\": \"total_expenditures_2022\"\n",
    "}, inplace=True)"
   ]
  },
  {
   "cell_type": "markdown",
   "id": "b822dd49",
   "metadata": {},
   "source": [
    "### Combine datasets"
   ]
  },
  {
   "cell_type": "code",
   "execution_count": 65,
   "id": "6f318196",
   "metadata": {},
   "outputs": [],
   "source": [
    "feature_cols = [\n",
    "    \"gender\",\n",
    "    \"race_ethnicity\",\n",
    "    \"census_region\",\n",
    "    \"any_activity_limitation\",\n",
    "    \"employment_status\",\n",
    "    \"difficulty_walking_stairs\",\n",
    "    \"k6_distress_score\",\n",
    "    \"age_years_2022\",\n",
    "    \"family_size\",\n",
    "    \"bmi\",\n",
    "]\n",
    "\n",
    "count_targets = [\n",
    "    \"pcp_visits\", \"outpatient_visits\", \"er_visits\",\n",
    "    \"inpatient_admits\", \"home_health_visits\",\n",
    "    \"rx_fills\", \"dental_visits\", \"equipment_purchases\"\n",
    "]\n",
    "\n",
    "X = df[feature_cols]\n",
    "y = df[count_targets].clip(lower=0)"
   ]
  },
  {
   "cell_type": "markdown",
   "id": "85fd2863",
   "metadata": {},
   "source": [
    "# Exploratory Analysis"
   ]
  },
  {
   "cell_type": "markdown",
   "id": "1b2a898b",
   "metadata": {},
   "source": [
    "About the data:\n",
    "The Medical Expenditure Panel Survey takes data from the CDC's National Health Interview Survey, a well-sampled survey."
   ]
  },
  {
   "cell_type": "markdown",
   "id": "83dce738",
   "metadata": {},
   "source": [
    "We know from v2 that there are no null values in the raw feature MEPS data because there were reserved negative values indicating reasons for a null value. These will be fixed in the preprocessing step."
   ]
  },
  {
   "cell_type": "code",
   "execution_count": null,
   "id": "db8d1ec0",
   "metadata": {},
   "outputs": [
    {
     "data": {
      "image/png": "[encoded data removed]",
      "text/plain": [
       "<Figure size 1600x800 with 8 Axes>"
      ]
     },
     "metadata": {},
     "output_type": "display_data"
    }
   ],
   "source": [
    "count_targets = [\n",
    "    \"pcp_visits\", \"outpatient_visits\", \"er_visits\",\n",
    "    \"inpatient_admits\", \"home_health_visits\",\n",
    "    \"rx_fills\", \"dental_visits\", \"equipment_purchases\"\n",
    "]\n",
    "\n",
    "# this will create a 2×4 grid of histograms\n",
    "df[count_targets].hist(\n",
    "    bins=20,                      # adjust bin count as you like\n",
    "    figsize=(16, 8),              # overall figure size\n",
    "    layout=(2, 4),                # 2 rows × 4 columns\n",
    "    sharex=False, sharey=False    # each plot gets its own axes limits\n",
    ")\n",
    "plt.tight_layout()\n",
    "plt.show()"
   ]
  },
  {
   "cell_type": "markdown",
   "id": "b2093050",
   "metadata": {},
   "source": [
    "**Many patients reported no visits or rx fills or equipment purchases. A few patients have a large number.** This is a pattern often found with distributions of counts of rare events. Therefore, Poisson regression should be used to model our data.\n",
    "\n",
    "Poisson random variables are often used to represent counts (e.g. visits/rx fills/purchases) per unit of time or space (one year)."
   ]
  },
  {
   "cell_type": "markdown",
   "id": "f8a1af7c",
   "metadata": {},
   "source": [
    "# Preprocess Data"
   ]
  },
  {
   "cell_type": "markdown",
   "id": "fe8b5cdc",
   "metadata": {},
   "source": [
    "## Train/Test Split"
   ]
  },
  {
   "cell_type": "code",
   "execution_count": 37,
   "id": "7b80d9fe",
   "metadata": {},
   "outputs": [],
   "source": [
    "X_train, X_test, y_train, y_test = train_test_split(\n",
    "    X, y, test_size=0.2, random_state=42\n",
    ")"
   ]
  },
  {
   "cell_type": "markdown",
   "id": "92bfaf22",
   "metadata": {},
   "source": [
    "## Preprocessor for Features"
   ]
  },
  {
   "cell_type": "markdown",
   "id": "1eb5df49",
   "metadata": {},
   "source": [
    "The MEPS dataset has reserved negative codes to indicate different reasons for null values instead of just leaving the observation null. For v2 I will just convert these negative codes to null. This can be addressed in a later model version. Ex. -7 = respondant refused to answer the question, -8 = respondant did not know the information"
   ]
  },
  {
   "cell_type": "code",
   "execution_count": 66,
   "id": "5cf19176",
   "metadata": {},
   "outputs": [],
   "source": [
    "# All negative “not-real” answers in the 2022 Consolidated PUF\n",
    "MEPS_2022_RESERVED = {\n",
    "    -1:  \"inapplicable\",\n",
    "    -2:  \"determined_prev_round\",\n",
    "    -7:  \"refused\",\n",
    "    -8:  \"dont_know_or_not_ascertained\",\n",
    "    -10: \"hourly_wage_topcode\",        # wage-only variables\n",
    "    -13: \"initial_wage_imputed\",       # wage-only variables\n",
    "    -15: \"cannot_be_computed\"\n",
    "}\n",
    "NEG_CODES = list(MEPS_2022_RESERVED.keys())\n",
    "\n",
    "def neg_to_nan(X: pd.DataFrame) -> pd.DataFrame:\n",
    "    \"\"\"Replace MEPS reserved negative codes with NaN.\"\"\"\n",
    "    return X.replace(NEG_CODES, np.nan)\n",
    "\n",
    "nanifier = FunctionTransformer(neg_to_nan, feature_names_out=\"one-to-one\") # convert codes to NaN"
   ]
  },
  {
   "cell_type": "markdown",
   "id": "1f1d1fb2",
   "metadata": {},
   "source": [
    "Process categories using one hot encoding."
   ]
  },
  {
   "cell_type": "code",
   "execution_count": 67,
   "id": "d4a3dcac",
   "metadata": {},
   "outputs": [],
   "source": [
    "# 1. List your categorical columns\n",
    "categorical_cols = [\n",
    "    # Demographics\n",
    "    \"gender\",\n",
    "    \"race_ethnicity\",\n",
    "    \"census_region\",\n",
    "    \"any_activity_limitation\",\n",
    "    \"employment_status\",\n",
    "    \"difficulty_walking_stairs\",\n",
    "    \"k6_distress_score\",\n",
    "    \"chronic_condition_count\"\n",
    "    # (you can add more here if you treat them as categorical)\n",
    "]\n",
    "\n",
    "# 2. List your numerical columns\n",
    "numeric_cols = [\n",
    "    \"age_years_2022\",\n",
    "    \"family_size\",\n",
    "    \"bmi\"\n",
    "]\n",
    "\n",
    "# 3. Build a little pipeline just for categoricals\n",
    "categorical_transformer = Pipeline([\n",
    "    (\"onehot\", OneHotEncoder(      # not imputing NaNs because HistGradientBoostingRegressor natively handles them; change if algorithm changes\n",
    "        handle_unknown=\"ignore\",   # don't crash if new categories appear in test\n",
    "        sparse_output=False,             # return a dense array (needed for shap, etc.)\n",
    "        drop=\"if_binary\"          # drop one level for binary vars to avoid collinearity\n",
    "    ))\n",
    "])\n",
    "\n",
    "# 4. Build a little pipeline just for numerics\n",
    "numeric_transformer = Pipeline([\n",
    "    (\"scaler\", StandardScaler())\n",
    "])\n",
    "\n",
    "# 5. Hook it into a ColumnTransformer (you’d add your numeric step(s) too)\n",
    "preprocessor = ColumnTransformer([\n",
    "    (\"cat\", categorical_transformer, categorical_cols),\n",
    "    (\"num\", numeric_transformer, numeric_cols)\n",
    "],\n",
    "    remainder=\"passthrough\"   # if you have any extras you’re just passing through\n",
    ")"
   ]
  },
  {
   "cell_type": "markdown",
   "id": "f2e32add",
   "metadata": {},
   "source": [
    "# Modelling"
   ]
  },
  {
   "cell_type": "markdown",
   "id": "cdf73817",
   "metadata": {},
   "source": [
    "## Checking Poisson regression assumptions (critical)"
   ]
  },
  {
   "cell_type": "markdown",
   "id": "65b6421f",
   "metadata": {},
   "source": [
    "**4 Model Assumptions:**\n",
    "\n",
    "1. **Poisson Response:** variable $\\lambda$ is a count per unit of time/space ($\\lambda$ = visits/Rxs/purchases per year)\n",
    "2. **Independence:** observations must be independent of each other\n",
    "3. **Mean = Variace:** variance increases for each increase of count\n",
    "4. **Linearity:** $log(\\lambda)$ must be a linear function of X\n",
    "\n",
    "Assumption 1 is met so we can procede to measuring independence."
   ]
  },
  {
   "cell_type": "code",
   "execution_count": null,
   "id": "33021f09",
   "metadata": {},
   "outputs": [],
   "source": []
  },
  {
   "cell_type": "markdown",
   "id": "d22e269a",
   "metadata": {},
   "source": [
    "# Model Evaluation"
   ]
  },
  {
   "cell_type": "markdown",
   "id": "c86a227f",
   "metadata": {},
   "source": [
    "## Evaluate Each Count Model"
   ]
  },
  {
   "cell_type": "code",
   "execution_count": 14,
   "id": "eb515c36",
   "metadata": {},
   "outputs": [
    {
     "name": "stdout",
     "output_type": "stream",
     "text": [
      "Count Models Evaluation (per-category):\n",
      "                          MAE       RMSE\n",
      "feature                                 \n",
      "pcp_visits           3.853706   8.767582\n",
      "outpatient_visits    0.675180   3.600926\n",
      "er_visits            0.145886   0.420662\n",
      "inpatient_admits     0.070335   0.237845\n",
      "home_health_visits   0.275654   1.761036\n",
      "rx_fills             5.763608  12.988660\n",
      "dental_visits        0.589623   1.105232\n",
      "equipment_purchases  0.339166   0.607119\n"
     ]
    }
   ],
   "source": [
    "metrics = []\n",
    "for target in count_targets:\n",
    "    mae = mean_absolute_error(y_test[target], preds[target])\n",
    "    rmse = root_mean_squared_error(y_test[target], preds[target])\n",
    "    metrics.append({\n",
    "        \"feature\": target,\n",
    "        \"MAE\": mae,\n",
    "        \"RMSE\": rmse\n",
    "    })\n",
    "\n",
    "metrics_df = pd.DataFrame(metrics).set_index(\"feature\")\n",
    "print(\"Count Models Evaluation (per-category):\")\n",
    "print(metrics_df)"
   ]
  },
  {
   "cell_type": "markdown",
   "id": "a9628760",
   "metadata": {},
   "source": [
    "## Predict counts for a synthetic user"
   ]
  },
  {
   "cell_type": "markdown",
   "id": "731cd0ab",
   "metadata": {},
   "source": [
    "For testing missing data use 'np.nan' instead of the value."
   ]
  },
  {
   "cell_type": "code",
   "execution_count": null,
   "id": "e480fc5c",
   "metadata": {},
   "outputs": [],
   "source": [
    "# Define realistic synthetic data for one individual\n",
    "synthetic_user = {\n",
    "    # Identifiers\n",
    "    \"person_id\": 99999999,\n",
    "\n",
    "    # Demographics\n",
    "    \"age_years_2022\": 57,\n",
    "    \"gender\": np.nan,                      # Female\n",
    "    \"race_ethnicity\": 3,             # Black/African American\n",
    "    \"hispanic_origin_category\": -1,  # Not Hispanic\n",
    "    \"census_region\": 3,              # South\n",
    "    # \"metro_status\": 1,             # In MSA\n",
    "\n",
    "    # Socioeconomic\n",
    "    \"education_years\": 12,\n",
    "    \"highest_degree_achieved\": 3,    # High school graduate\n",
    "    \"family_income_2022\": 32000,\n",
    "    \"poverty_level_pct\": 140,        # 140% of FPL\n",
    "    \"poverty_category\": 2,           # 100–199%\n",
    "    \"employment_status\": 2,          # Unemployed\n",
    "    \"hours_worked_per_week\": 0,\n",
    "    \"occupation_industry_category\": -1,  # Not applicable / unemployed\n",
    "    \"family_size\": 3,\n",
    "    \"marital_status\": 2,             # Widowed\n",
    "    \"spouse_in_household\": 2,        # No spouse in household\n",
    "\n",
    "    # Access & Utilization\n",
    "    \"insurance_coverage_type\": 2,          # Public only (e.g., Medicaid)\n",
    "    \"has_usual_source_of_care\": 1,         # Has usual source of care\n",
    "    \"usual_care_location_type\": 2,         # Clinic/health center\n",
    "    \"delayed_care_due_to_cost\": 1,         # Could not afford care\n",
    "    \"delayed_prescription_due_to_cost\": 1, # Delayed meds due to cost\n",
    "    \"received_snap\": 1,                    # Received food stamps\n",
    "    \"snap_benefit_value_2022\": 1500,\n",
    "\n",
    "    # Behaviors & Lifestyle\n",
    "    \"bmi\": 34.2,                         # Obese\n",
    "    \"smoking_frequency\": 2,             # Some days\n",
    "    \"alcohol_consumption_frequency\": 3, # <4 times/week\n",
    "    \"exercise_days_per_week\": 1,        # 1 day/week\n",
    "    \"english_proficiency\": 4,           # Very well\n",
    "    \"us_born_flag\": 1,                  # Born in US\n",
    "    \"years_in_us\": -1,                  # N/A (born in US)\n",
    "\n",
    "    # Functional & Cognitive\n",
    "    \"difficulty_lifting_carrying\": 1,       # Yes, difficulty lifting\n",
    "    \"difficulty_walking_stairs\": 2,         # No difficulty walking\n",
    "    \"any_activity_limitation\": 1,           # Yes, limited activities\n",
    "    \"cognitive_limitation\": 2,              # No cognitive limitations\n",
    "    \"k6_distress_score\": 9,                 # Moderate psychological distress\n",
    "    \"hopelessness_frequency_30d\": 3,        # Some of the time\n",
    "    \"sadness_frequency_30d\": 3,             # Some of the time\n",
    "\n",
    "    # Health Status\n",
    "    # \"chronic_condition_count\": 4,        # Has multiple chronic conditions\n",
    "\n",
    "    # Outcome (for training)\n",
    "    \"total_expenditures_2022\": 18934.65     # Total expenditures in 2022 (USD)\n",
    "}\n",
    "\n",
    "# Create DataFrame with the synthetic individual\n",
    "synthetic_df = pd.DataFrame([synthetic_user])\n",
    "\n",
    "# Make predictions using the trained models\n",
    "predictions = {}\n",
    "for target in count_targets:\n",
    "    # Use the trained model to predict\n",
    "    pred_value = models[target].predict(synthetic_df)[0]\n",
    "    predictions[target] = max(0, round(pred_value))  # Ensure non-negative integers\n",
    "\n",
    "# Create predictions DataFrame\n",
    "predictions_df = pd.DataFrame([predictions])\n",
    "\n",
    "print(\"Predicted Healthcare Utilization Counts:\")\n",
    "display(predictions_df)"
   ]
  },
  {
   "cell_type": "markdown",
   "id": "04aec753",
   "metadata": {},
   "source": [
    "# Feature Analysis"
   ]
  },
  {
   "cell_type": "code",
   "execution_count": null,
   "id": "c11277c4",
   "metadata": {},
   "outputs": [],
   "source": []
  }
 ],
 "metadata": {
  "kernelspec": {
   "display_name": "base",
   "language": "python",
   "name": "python3"
  },
  "language_info": {
   "codemirror_mode": {
    "name": "ipython",
    "version": 3
   },
   "file_extension": ".py",
   "mimetype": "text/x-python",
   "name": "python",
   "nbconvert_exporter": "python",
   "pygments_lexer": "ipython3",
   "version": "3.12.2"
  }
 },
 "nbformat": 4,
 "nbformat_minor": 5
}
